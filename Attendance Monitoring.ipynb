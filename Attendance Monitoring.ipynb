{
 "cells": [
  {
   "cell_type": "code",
   "execution_count": 6,
   "id": "602fe24c-66f4-4da7-ad35-c122d2ca98b4",
   "metadata": {},
   "outputs": [],
   "source": [
    "#libraries\n",
    "\n",
    "import cv2\n",
    "import face_recognition\n",
    "import os\n",
    "import numpy as np\n",
    "import pandas"
   ]
  },
  {
   "cell_type": "code",
   "execution_count": 2,
   "id": "f01b143d-4743-464a-b291-280245af7eb3",
   "metadata": {},
   "outputs": [],
   "source": [
    "#Dataset Path\n",
    "\n",
    "images = os.path.join('students')"
   ]
  },
  {
   "cell_type": "code",
   "execution_count": 3,
   "id": "4717309d-0046-48bb-9c3b-81b151f9ec70",
   "metadata": {},
   "outputs": [],
   "source": [
    "#Take a pic for dataset\n",
    "\n",
    "cap = cv2.VideoCapture(0)\n",
    "\n",
    "while cap.isOpened():\n",
    "    ret, frame = cap.read()\n",
    "\n",
    "    cv2.imshow('Take a Pic', frame)\n",
    "    \n",
    "    if cv2.waitKey(1) & 0xFF == ord('c'):\n",
    "        desired_filename = input(\"Enter the Name: \")\n",
    "        imgname = os.path.join(images, '{}.jpg'.format(desired_filename))\n",
    "        cv2.imwrite(imgname, frame)\n",
    "        print(f\"Image saved as {imgname}\")\n",
    "        \n",
    "    if cv2.waitKey(1) & 0xFF == ord('q'):\n",
    "        break\n",
    "\n",
    "cap.release()\n",
    "cv2.destroyAllWindows()"
   ]
  },
  {
   "cell_type": "code",
   "execution_count": 3,
   "id": "e305dd38-74e6-43f8-9079-825d35164f2f",
   "metadata": {},
   "outputs": [],
   "source": [
    "def capture_image(file_path):\n",
    "    cap = cv2.VideoCapture(0)\n",
    "\n",
    "    if not cap.isOpened():\n",
    "        print(\"Error: Could not open the webcam.\")\n",
    "        return\n",
    "\n",
    "    ret, frame = cap.read()\n",
    "\n",
    "    if not ret:\n",
    "        print(\"Error: Could not capture an image.\")\n",
    "        cap.release()\n",
    "        return\n",
    "\n",
    "    cv2.imwrite(file_path, frame)\n",
    "\n",
    "    cap.release()"
   ]
  },
  {
   "cell_type": "code",
   "execution_count": 4,
   "id": "50093250-c01a-4cc5-a8e0-e0947d484363",
   "metadata": {},
   "outputs": [],
   "source": [
    "def recognize_face(unknown_image_path, known_faces_dir, tolerance=0.5):\n",
    "    unknown_image = face_recognition.load_image_file(unknown_image_path)\n",
    "    \n",
    "    face_locations = face_recognition.face_locations(unknown_image, model=\"cnn\")\n",
    "    \n",
    "    if len(face_locations) == 0:\n",
    "        print(\"No faces found in the unknown image.\")\n",
    "        return\n",
    "\n",
    "    unknown_face_encodings = face_recognition.face_encodings(unknown_image, known_face_locations=face_locations)\n",
    "\n",
    "    known_faces = []\n",
    "    known_face_encodings = []\n",
    "\n",
    "    for filename in os.listdir(known_faces_dir):\n",
    "        if filename.endswith(\".jpg\") or filename.endswith(\".png\"):\n",
    "            filepath = os.path.join(known_faces_dir, filename)\n",
    "            known_image = face_recognition.load_image_file(filepath)\n",
    "            known_face_encodings.append(face_recognition.face_encodings(known_image)[0])\n",
    "            known_faces.append(filename)\n",
    "\n",
    "    for unknown_face_encoding in unknown_face_encodings:\n",
    "        results = face_recognition.compare_faces(known_face_encodings, unknown_face_encoding, tolerance=tolerance)\n",
    "        matched_faces = [known_faces[i] for i, match in enumerate(results) if match]\n",
    "\n",
    "        if matched_faces:\n",
    "            for face in matched_faces:\n",
    "                print(face)\n",
    "        else:\n",
    "            print(\"No match found for one of the faces!\")\n",
    "            return False"
   ]
  },
  {
   "cell_type": "code",
   "execution_count": 5,
   "id": "d4f1fd44-aac1-453a-ab91-f3d2a8a9b22f",
   "metadata": {},
   "outputs": [
    {
     "name": "stdout",
     "output_type": "stream",
     "text": [
      "Dharin.jpg\n",
      "Harshraj.jpg\n"
     ]
    }
   ],
   "source": [
    "image_file_path = \"D:\\BTech College Work\\Major Project\\Sem 5\\Test5.jpg\"\n",
    "recognize_face(image_file_path, images, tolerance=0.5)"
   ]
  },
  {
   "cell_type": "code",
   "execution_count": 25,
   "id": "7fd465fc-6b78-471f-b31a-4444975d42d4",
   "metadata": {},
   "outputs": [],
   "source": [
    "def recognize_face(unknown_image_path, known_faces_dir, csv_file_path, tolerance=0.5):\n",
    "    # Load unknown image and detect face locations\n",
    "    unknown_image = face_recognition.load_image_file(unknown_image_path)\n",
    "    face_locations = face_recognition.face_locations(unknown_image, model=\"cnn\")\n",
    "    \n",
    "    if len(face_locations) == 0:\n",
    "        print(\"No faces found in the unknown image.\")\n",
    "        return\n",
    "\n",
    "    # Encode unknown faces\n",
    "    unknown_face_encodings = face_recognition.face_encodings(unknown_image, known_face_locations=face_locations)\n",
    "\n",
    "    # Load known faces and encodings\n",
    "    known_faces = []\n",
    "    known_face_encodings = []\n",
    "\n",
    "    for filename in os.listdir(known_faces_dir):\n",
    "        if filename.endswith(\".jpg\") or filename.endswith(\".png\"):\n",
    "            filepath = os.path.join(known_faces_dir, filename)\n",
    "            known_image = face_recognition.load_image_file(filepath)\n",
    "            known_face_encodings.append(face_recognition.face_encodings(known_image)[0])\n",
    "            known_faces.append(filename)\n",
    "\n",
    "    # Load CSV file into pandas DataFrame\n",
    "    df = pd.read_csv(csv_file_path)\n",
    "\n",
    "    df['Present'] = 0\n",
    "\n",
    "    # Compare unknown face encodings with known faces\n",
    "    for unknown_face_encoding in unknown_face_encodings:\n",
    "        results = face_recognition.compare_faces(known_face_encodings, unknown_face_encoding, tolerance=tolerance)\n",
    "        matched_faces = [known_faces[i] for i, match in enumerate(results) if match]\n",
    "    \n",
    "        print(\"Matched faces:\", matched_faces)  # Debugging print statement\n",
    "    \n",
    "        if matched_faces:\n",
    "            for face in matched_faces:\n",
    "                # Remove file extension\n",
    "                face_name = os.path.splitext(face)[0]\n",
    "                print(face_name)\n",
    "                # Check if the name matches with the DataFrame\n",
    "                if face_name in df['Name'].values:\n",
    "                    # Mark the person as present in the DataFrame\n",
    "                    df.loc[df['Name'] == face_name, 'Present'] = 1\n",
    "                else:\n",
    "                    print(f\"Warning: {face_name} not found in DataFrame\")\n",
    "        else:\n",
    "            print(\"No match found for one of the faces!\")\n",
    "            return False\n",
    "\n",
    "    # Write updated DataFrame back to CSV file\n",
    "    df.to_csv(csv_file_path, index=False)\n",
    "    \n",
    "    return True"
   ]
  },
  {
   "cell_type": "code",
   "execution_count": 26,
   "id": "cbbe538f-886c-4f3c-9807-7320b7a82cb5",
   "metadata": {},
   "outputs": [
    {
     "name": "stdout",
     "output_type": "stream",
     "text": [
      "Matched faces: ['Dharin.jpg']\n",
      "Dharin\n",
      "Matched faces: ['Harshraj.jpg']\n",
      "Harshraj\n"
     ]
    },
    {
     "data": {
      "text/plain": [
       "True"
      ]
     },
     "execution_count": 26,
     "metadata": {},
     "output_type": "execute_result"
    }
   ],
   "source": [
    "csv_file_path = \"D:\\BTech College Work\\Major Project\\Sem 6\\Cloud Computing.csv\"\n",
    "image_file_path = \"D:\\BTech College Work\\Major Project\\Sem 6\\Test5.jpg\"\n",
    "recognize_face(image_file_path, images, csv_file_path, tolerance=0.5)"
   ]
  },
  {
   "cell_type": "code",
   "execution_count": 27,
   "id": "4e15773b-b836-4f40-bc9e-866acf8fe81a",
   "metadata": {},
   "outputs": [],
   "source": [
    "def recognize_face(unknown_image_path, known_faces_dir, csv_file_path, tolerance=0.5):\n",
    "    # Ask user for the column name\n",
    "    column_name = input(\"Enter the name of the column to mark attendance: \")\n",
    "    \n",
    "    # Load CSV file into pandas DataFrame\n",
    "    df = pd.read_csv(csv_file_path)\n",
    "\n",
    "    # Add the column to the DataFrame and initialize with 0s\n",
    "    df[column_name] = 0\n",
    "\n",
    "    # Load unknown image and detect face locations\n",
    "    unknown_image = face_recognition.load_image_file(unknown_image_path)\n",
    "    face_locations = face_recognition.face_locations(unknown_image, model=\"cnn\")\n",
    "    \n",
    "    if len(face_locations) == 0:\n",
    "        print(\"No faces found in the unknown image.\")\n",
    "        return False\n",
    "\n",
    "    # Encode unknown faces\n",
    "    unknown_face_encodings = face_recognition.face_encodings(unknown_image, known_face_locations=face_locations)\n",
    "\n",
    "    # Load known faces and encodings\n",
    "    known_faces = []\n",
    "    known_face_encodings = []\n",
    "\n",
    "    for filename in os.listdir(known_faces_dir):\n",
    "        if filename.endswith(\".jpg\") or filename.endswith(\".png\"):\n",
    "            filepath = os.path.join(known_faces_dir, filename)\n",
    "            known_image = face_recognition.load_image_file(filepath)\n",
    "            known_face_encodings.append(face_recognition.face_encodings(known_image)[0])\n",
    "            known_faces.append(filename)\n",
    "\n",
    "    # Compare unknown face encodings with known faces\n",
    "    for unknown_face_encoding in unknown_face_encodings:\n",
    "        results = face_recognition.compare_faces(known_face_encodings, unknown_face_encoding, tolerance=tolerance)\n",
    "        matched_faces = [known_faces[i] for i, match in enumerate(results) if match]\n",
    "    \n",
    "        print(\"Matched faces:\", matched_faces)  # Debugging print statement\n",
    "    \n",
    "        if matched_faces:\n",
    "            for face in matched_faces:\n",
    "                # Remove file extension\n",
    "                face_name = os.path.splitext(face)[0]\n",
    "                print(face_name)\n",
    "                # Check if the name matches with the DataFrame\n",
    "                if face_name in df['Name'].values:\n",
    "                    # Mark the person as present in the DataFrame\n",
    "                    df.loc[df['Name'] == face_name, column_name] = 1\n",
    "                else:\n",
    "                    print(f\"Warning: {face_name} not found in DataFrame\")\n",
    "        else:\n",
    "            print(\"No match found for one of the faces!\")\n",
    "\n",
    "    # Write updated DataFrame back to CSV file\n",
    "    df.to_csv(csv_file_path, index=False)\n",
    "    \n",
    "    return True"
   ]
  },
  {
   "cell_type": "code",
   "execution_count": 34,
   "id": "fcb62f6e-8c0c-401b-8917-1d47b886c88f",
   "metadata": {},
   "outputs": [],
   "source": [
    "print(\"Select the subject\")\n",
    "print(\"1. Cloud Computing\")\n",
    "print(\"2. Big Data Analytics\")\n",
    "print(\"3. Natural Language Processing\")\n",
    "i = input()\n",
    "\n",
    "if i == 1:\n",
    "    csv_file_path = r\"D:\\BTech College Work\\Major Project\\Sem 6\\Cloud Computing.csv\"\n",
    "if i == 2:\n",
    "    csv_file_path = r\"D:\\BTech College Work\\Major Project\\Sem 6\\Big Data Analytics.csv\"\n",
    "if i == 3:\n",
    "    csv_file_path = r\"D:\\BTech College Work\\Major Project\\Sem 6\\Natural Language Processing.csv\"\n",
    "\n",
    "image_file_path = \"D:\\BTech College Work\\Major Project\\Sem 6\\Test1.jpg\"\n",
    "recognize_face(image_file_path, images, csv_file_path, tolerance=0.5)"
   ]
  },
  {
   "cell_type": "code",
   "execution_count": null,
   "id": "2f506eed-d325-4c8a-ba0b-a37287578e4a",
   "metadata": {},
   "outputs": [],
   "source": []
  }
 ],
 "metadata": {
  "kernelspec": {
   "display_name": "Python 3 (ipykernel)",
   "language": "python",
   "name": "python3"
  },
  "language_info": {
   "codemirror_mode": {
    "name": "ipython",
    "version": 3
   },
   "file_extension": ".py",
   "mimetype": "text/x-python",
   "name": "python",
   "nbconvert_exporter": "python",
   "pygments_lexer": "ipython3",
   "version": "3.11.0"
  }
 },
 "nbformat": 4,
 "nbformat_minor": 5
}
